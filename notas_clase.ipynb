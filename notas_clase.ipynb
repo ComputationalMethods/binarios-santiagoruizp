{
 "cells": [
  {
   "cell_type": "markdown",
   "metadata": {},
   "source": [
    "# comprehension lists"
   ]
  },
  {
   "cell_type": "markdown",
   "metadata": {},
   "source": [
    "Recordar que se pueden crear arreglos con funciones de numpy"
   ]
  },
  {
   "cell_type": "code",
   "execution_count": 81,
   "metadata": {
    "collapsed": true
   },
   "outputs": [],
   "source": [
    "import numpy as np"
   ]
  },
  {
   "cell_type": "code",
   "execution_count": 2,
   "metadata": {},
   "outputs": [
    {
     "data": {
      "text/plain": [
       "array([ 1.,  1.,  1.,  1.,  1.])"
      ]
     },
     "execution_count": 2,
     "metadata": {},
     "output_type": "execute_result"
    }
   ],
   "source": [
    "np.ones(5)"
   ]
  },
  {
   "cell_type": "markdown",
   "metadata": {},
   "source": [
    "Las comprehension lists permiten crear listas en general"
   ]
  },
  {
   "cell_type": "code",
   "execution_count": 3,
   "metadata": {},
   "outputs": [
    {
     "data": {
      "text/plain": [
       "[0, 1, 4, 9, 16, 25, 36, 49]"
      ]
     },
     "execution_count": 3,
     "metadata": {},
     "output_type": "execute_result"
    }
   ],
   "source": [
    "[x**2 for x in range (8)]"
   ]
  },
  {
   "cell_type": "markdown",
   "metadata": {},
   "source": [
    "Es quivalente a:"
   ]
  },
  {
   "cell_type": "code",
   "execution_count": 6,
   "metadata": {},
   "outputs": [
    {
     "data": {
      "text/plain": [
       "[0, 1, 4, 9, 16, 25, 36, 49]"
      ]
     },
     "execution_count": 6,
     "metadata": {},
     "output_type": "execute_result"
    }
   ],
   "source": [
    "l=[]\n",
    "for x in range (8):\n",
    "    l.append(x**2)\n",
    "l    "
   ]
  },
  {
   "cell_type": "markdown",
   "metadata": {},
   "source": [
    "### Números binarios\n",
    "En python la representación binario se obtiene con:"
   ]
  },
  {
   "cell_type": "code",
   "execution_count": 9,
   "metadata": {},
   "outputs": [
    {
     "name": "stdout",
     "output_type": "stream",
     "text": [
      "b'B\\x00\\x00\\x00'\n",
      "b'@@\\x00\\x00\\x00\\x00\\x00\\x00'\n"
     ]
    }
   ],
   "source": [
    "import struct\n",
    "print (struct.pack('!f', 32)) #32 bites\n",
    "print (struct.pack('!d', 32) )#64 bites"
   ]
  },
  {
   "cell_type": "markdown",
   "metadata": {},
   "source": [
    "Función para convertir números a binarios"
   ]
  },
  {
   "cell_type": "code",
   "execution_count": 36,
   "metadata": {
    "collapsed": true
   },
   "outputs": [],
   "source": [
    "def binario(num, bits=\"f\"):\n",
    "    \"\"\"\n",
    "    Convierte un número real en su representación de 32 o 64 bits\n",
    "    num = Cualquier número real \n",
    "    bits = \"f\" para 32 o \"d\" para 64\n",
    "    \"\"\"\n",
    "    formatbin=\"!{}\".format(bits)\n",
    "#if True:\n",
    "    import struct\n",
    "    #num=45.98\n",
    "    packed= struct.pack(formatbin,num)\n",
    "    print (\"Packed: {}\" .format(packed))\n",
    "    integers= [c for c in packed]\n",
    "    print (\"Integers: {}\" .format(integers))\n",
    "    binaries= [bin(x) for x in integers]\n",
    "    print (\"Binaries: {}\" .format(binaries))\n",
    "    stripped_binaries= [s.replace(\"0b\", \"\") for s in binaries]\n",
    "    print (\"Stripped binaries: {}\" .format(stripped_binaries))\n",
    "    padded= [s.rjust(8,\"0\") for s in stripped_binaries]\n",
    "    print (\"Padded binaries (in bytes): {}\" .format(padded))\n",
    "    return \"\".join(padded)"
   ]
  },
  {
   "cell_type": "markdown",
   "metadata": {},
   "source": [
    "Ayuda de la función"
   ]
  },
  {
   "cell_type": "code",
   "execution_count": 30,
   "metadata": {
    "collapsed": true
   },
   "outputs": [],
   "source": [
    "binario?"
   ]
  },
  {
   "cell_type": "markdown",
   "metadata": {},
   "source": [
    "Ejemplo"
   ]
  },
  {
   "cell_type": "code",
   "execution_count": 33,
   "metadata": {},
   "outputs": [
    {
     "name": "stdout",
     "output_type": "stream",
     "text": [
      "Packed: b'\\xc0\\x84\\xd5S\\xf7\\xce\\xd9\\x17'\n",
      "Integers: [192, 132, 213, 83, 247, 206, 217, 23]\n",
      "Binaries: ['0b11000000', '0b10000100', '0b11010101', '0b1010011', '0b11110111', '0b11001110', '0b11011001', '0b10111']\n",
      "Stripped binaries: ['11000000', '10000100', '11010101', '1010011', '11110111', '11001110', '11011001', '10111']\n",
      "Padded binaries (in bytes): ['11000000', '10000100', '11010101', '01010011', '11110111', '11001110', '11011001', '00010111']\n"
     ]
    },
    {
     "data": {
      "text/plain": [
       "'1100000010000100110101010101001111110111110011101101100100010111'"
      ]
     },
     "execution_count": 33,
     "metadata": {},
     "output_type": "execute_result"
    }
   ],
   "source": [
    "binario(-666.666,\"d\")"
   ]
  },
  {
   "cell_type": "markdown",
   "metadata": {},
   "source": [
    "Funcion inversa para encontrar el número dado un número binario:"
   ]
  },
  {
   "cell_type": "markdown",
   "metadata": {},
   "source": [
    "32 bits:"
   ]
  },
  {
   "cell_type": "code",
   "execution_count": 53,
   "metadata": {},
   "outputs": [
    {
     "name": "stdout",
     "output_type": "stream",
     "text": [
      "Packed: b'> \\x00\\x00'\n",
      "Integers: [62, 32, 0, 0]\n",
      "Binaries: ['0b111110', '0b100000', '0b0', '0b0']\n",
      "Stripped binaries: ['111110', '100000', '0', '0']\n",
      "Padded binaries (in bytes): ['00111110', '00100000', '00000000', '00000000']\n"
     ]
    }
   ],
   "source": [
    "BIN=binario(0.15625)"
   ]
  },
  {
   "cell_type": "code",
   "execution_count": 54,
   "metadata": {
    "collapsed": true
   },
   "outputs": [],
   "source": [
    "finlist=list(BIN)[::-1]"
   ]
  },
  {
   "cell_type": "code",
   "execution_count": 57,
   "metadata": {},
   "outputs": [
    {
     "data": {
      "text/plain": [
       "'00000000000000000000010001111100'"
      ]
     },
     "execution_count": 57,
     "metadata": {},
     "output_type": "execute_result"
    }
   ],
   "source": [
    "\"\".join (list(BIN)[::-1])"
   ]
  },
  {
   "cell_type": "code",
   "execution_count": 91,
   "metadata": {},
   "outputs": [
    {
     "data": {
      "text/plain": [
       "'0'"
      ]
     },
     "execution_count": 91,
     "metadata": {},
     "output_type": "execute_result"
    }
   ],
   "source": [
    "sig=finlist[-1]\n",
    "\"\".join(sig)"
   ]
  },
  {
   "cell_type": "code",
   "execution_count": 92,
   "metadata": {},
   "outputs": [
    {
     "data": {
      "text/plain": [
       "'00111110'"
      ]
     },
     "execution_count": 92,
     "metadata": {},
     "output_type": "execute_result"
    }
   ],
   "source": [
    "exp=finlist[-9:-1]\n",
    "\"\".join(exp)"
   ]
  },
  {
   "cell_type": "code",
   "execution_count": 93,
   "metadata": {
    "scrolled": true
   },
   "outputs": [
    {
     "data": {
      "text/plain": [
       "'00000000000000000000010'"
      ]
     },
     "execution_count": 93,
     "metadata": {},
     "output_type": "execute_result"
    }
   ],
   "source": [
    "frac=finlist[:-9]\n",
    "\"\".join(frac)"
   ]
  },
  {
   "cell_type": "markdown",
   "metadata": {
    "collapsed": true
   },
   "source": [
    "Se comienza con los elementos de la formula:"
   ]
  },
  {
   "cell_type": "code",
   "execution_count": 111,
   "metadata": {},
   "outputs": [
    {
     "data": {
      "text/plain": [
       "124.0"
      ]
     },
     "execution_count": 111,
     "metadata": {},
     "output_type": "execute_result"
    }
   ],
   "source": [
    "exponente=np.array(exp)\n",
    "exponente=exponente.astype(int)\n",
    "l2=2*np.ones(8)\n",
    "ie=np.arange(8)\n",
    "e=(exponente*(l2**ie)).sum()\n",
    "e"
   ]
  },
  {
   "cell_type": "code",
   "execution_count": 121,
   "metadata": {},
   "outputs": [
    {
     "data": {
      "text/plain": [
       "0.25"
      ]
     },
     "execution_count": 121,
     "metadata": {},
     "output_type": "execute_result"
    }
   ],
   "source": [
    "fraccion=np.array(frac)\n",
    "fraccion=fraccion.astype(int)\n",
    "li2=2*np.ones(23)\n",
    "ie2=-(np.arange(1,24))\n",
    "ie2=ie2[::-1]\n",
    "fact=(fraccion*(li2**ie2)).sum()\n",
    "fact"
   ]
  },
  {
   "cell_type": "code",
   "execution_count": 122,
   "metadata": {
    "collapsed": true
   },
   "outputs": [],
   "source": [
    "s=np.array(sig)\n",
    "s=s.astype(int)"
   ]
  },
  {
   "cell_type": "code",
   "execution_count": 126,
   "metadata": {},
   "outputs": [
    {
     "data": {
      "text/plain": [
       "0.15625"
      ]
     },
     "execution_count": 126,
     "metadata": {},
     "output_type": "execute_result"
    }
   ],
   "source": [
    "r=((-1)**s)*(1+fact)*(2**(e-127))\n",
    "r"
   ]
  },
  {
   "cell_type": "markdown",
   "metadata": {},
   "source": [
    "Metemos todo en una función:"
   ]
  },
  {
   "cell_type": "code",
   "execution_count": 134,
   "metadata": {
    "collapsed": true
   },
   "outputs": [],
   "source": [
    "def base1032(numero):\n",
    "    \"\"\"\n",
    "    Convierte un número binario de 32 bits a su representación en base 10\n",
    "    numero = Cualquier número binario de 32 bits \n",
    "    \"\"\"\n",
    "    finlist=list(numero)[::-1]\n",
    "    sig=finlist[-1]\n",
    "    exp=finlist[-9:-1]\n",
    "    frac=finlist[:-9]\n",
    "    \n",
    "    exponente=np.array(exp)\n",
    "    exponente=exponente.astype(int)\n",
    "    l2=2*np.ones(8)\n",
    "    ie=np.arange(8)\n",
    "    e=(exponente*(l2**ie)).sum()\n",
    "    \n",
    "    fraccion=np.array(frac)\n",
    "    fraccion=fraccion.astype(int)\n",
    "    li2=2*np.ones(23)\n",
    "    ie2=-(np.arange(1,24))\n",
    "    ie2=ie2[::-1]\n",
    "    fact=(fraccion*(li2**ie2)).sum()\n",
    "    \n",
    "    s=np.array(sig)\n",
    "    s=s.astype(int)\n",
    "    \n",
    "    r=((-1)**s)*(1+fact)*(2**(e-127))\n",
    "    return r"
   ]
  },
  {
   "cell_type": "markdown",
   "metadata": {},
   "source": [
    "Evaluando las dos funciones a la vez:"
   ]
  },
  {
   "cell_type": "code",
   "execution_count": 135,
   "metadata": {},
   "outputs": [
    {
     "name": "stdout",
     "output_type": "stream",
     "text": [
      "Packed: b'> \\x00\\x00'\n",
      "Integers: [62, 32, 0, 0]\n",
      "Binaries: ['0b111110', '0b100000', '0b0', '0b0']\n",
      "Stripped binaries: ['111110', '100000', '0', '0']\n",
      "Padded binaries (in bytes): ['00111110', '00100000', '00000000', '00000000']\n"
     ]
    },
    {
     "data": {
      "text/plain": [
       "0.15625"
      ]
     },
     "execution_count": 135,
     "metadata": {},
     "output_type": "execute_result"
    }
   ],
   "source": [
    "base1032(binario(0.15625))"
   ]
  },
  {
   "cell_type": "markdown",
   "metadata": {},
   "source": [
    "Ahora hacemos la misma función para números binarios de 64 bits:"
   ]
  },
  {
   "cell_type": "code",
   "execution_count": 131,
   "metadata": {
    "collapsed": true
   },
   "outputs": [],
   "source": [
    "def base1064(numero):\n",
    "    \"\"\"\n",
    "    Convierte un número binario de 64 bits a su representación en base 10\n",
    "    numero = Cualquier número binario de  bits \n",
    "    \"\"\"\n",
    "    finlist=list(numero)[::-1]\n",
    "    sig=finlist[-1]\n",
    "    exp=finlist[-12:-1]\n",
    "    frac=finlist[:-12]\n",
    "    \n",
    "    exponente=np.array(exp)\n",
    "    exponente=exponente.astype(int)\n",
    "    l2=2*np.ones(11)\n",
    "    ie=np.arange(11)\n",
    "    e=(exponente*(l2**ie)).sum()\n",
    "    \n",
    "    fraccion=np.array(frac)\n",
    "    fraccion=fraccion.astype(int)\n",
    "    li2=2*np.ones(52)\n",
    "    ie2=-(np.arange(1,53))\n",
    "    ie2=ie2[::-1]\n",
    "    fact=(fraccion*(li2**ie2)).sum()\n",
    "    \n",
    "    s=np.array(sig)\n",
    "    s=s.astype(int)\n",
    "    \n",
    "    r=((-1)**s)*(1+fact)*(2**(e-1023))\n",
    "    return r"
   ]
  },
  {
   "cell_type": "markdown",
   "metadata": {},
   "source": [
    "Evaluando las dos funciones a la vez:"
   ]
  },
  {
   "cell_type": "code",
   "execution_count": 133,
   "metadata": {},
   "outputs": [
    {
     "name": "stdout",
     "output_type": "stream",
     "text": [
      "Packed: b'?\\xc4\\x00\\x00\\x00\\x00\\x00\\x00'\n",
      "Integers: [63, 196, 0, 0, 0, 0, 0, 0]\n",
      "Binaries: ['0b111111', '0b11000100', '0b0', '0b0', '0b0', '0b0', '0b0', '0b0']\n",
      "Stripped binaries: ['111111', '11000100', '0', '0', '0', '0', '0', '0']\n",
      "Padded binaries (in bytes): ['00111111', '11000100', '00000000', '00000000', '00000000', '00000000', '00000000', '00000000']\n"
     ]
    },
    {
     "data": {
      "text/plain": [
       "0.15625"
      ]
     },
     "execution_count": 133,
     "metadata": {},
     "output_type": "execute_result"
    }
   ],
   "source": [
    "base1064(binario(0.15625,\"d\"))"
   ]
  },
  {
   "cell_type": "markdown",
   "metadata": {},
   "source": [
    "# Bonus\n",
    "Dado que ya tenemos una función que nos convierte un número real a un número binario de 32 o 64 bits según se quiera, se hace ahora una función que nos permita pasar un número binario a su respectivo real tanto para 32 y 64 bits"
   ]
  },
  {
   "cell_type": "code",
   "execution_count": 142,
   "metadata": {
    "collapsed": true
   },
   "outputs": [],
   "source": [
    "def base10(numero):\n",
    "    \"\"\"\n",
    "    Convierte un número binario de 32 o 64 bits a su representación en base 10\n",
    "    numero = Cualquier número binario de 32 0 64 bits \n",
    "    \"\"\"\n",
    "    finlist=list(numero)[::-1]\n",
    "    sig=finlist[-1]\n",
    "    \n",
    "    if len(numero) == 32:\n",
    "        exp=finlist[-9:-1]\n",
    "        frac=finlist[:-9]\n",
    "        l2=2*np.ones(8)\n",
    "        ie=np.arange(8)\n",
    "        li2=2*np.ones(23)\n",
    "        ie2=-(np.arange(1,24))\n",
    "    \n",
    "    elif len(numero) == 64:\n",
    "        exp=finlist[-12:-1]\n",
    "        frac=finlist[:-12]\n",
    "        l2=2*np.ones(11)\n",
    "        ie=np.arange(11)\n",
    "        li2=2*np.ones(52)\n",
    "        ie2=-(np.arange(1,53))\n",
    "    \n",
    "    exponente=np.array(exp)\n",
    "    exponente=exponente.astype(int)\n",
    "    e=(exponente*(l2**ie)).sum()\n",
    "    \n",
    "    fraccion=np.array(frac)\n",
    "    fraccion=fraccion.astype(int)\n",
    "    ie2=ie2[::-1]\n",
    "    fact=(fraccion*(li2**ie2)).sum()\n",
    "    \n",
    "    s=np.array(sig)\n",
    "    s=s.astype(int)\n",
    "    \n",
    "    if len(numero) == 32:\n",
    "        r=((-1)**s)*(1+fact)*(2**(e-127))\n",
    "        return r\n",
    "    \n",
    "    if len(numero) == 64: \n",
    "        r=((-1)**s)*(1+fact)*(2**(e-1023))\n",
    "        return r"
   ]
  },
  {
   "cell_type": "markdown",
   "metadata": {},
   "source": [
    "Probando función:"
   ]
  },
  {
   "cell_type": "code",
   "execution_count": 143,
   "metadata": {},
   "outputs": [
    {
     "name": "stdout",
     "output_type": "stream",
     "text": [
      "Packed: b'> \\x00\\x00'\n",
      "Integers: [62, 32, 0, 0]\n",
      "Binaries: ['0b111110', '0b100000', '0b0', '0b0']\n",
      "Stripped binaries: ['111110', '100000', '0', '0']\n",
      "Padded binaries (in bytes): ['00111110', '00100000', '00000000', '00000000']\n",
      "0.15625\n",
      "Packed: b'?\\xc4\\x00\\x00\\x00\\x00\\x00\\x00'\n",
      "Integers: [63, 196, 0, 0, 0, 0, 0, 0]\n",
      "Binaries: ['0b111111', '0b11000100', '0b0', '0b0', '0b0', '0b0', '0b0', '0b0']\n",
      "Stripped binaries: ['111111', '11000100', '0', '0', '0', '0', '0', '0']\n",
      "Padded binaries (in bytes): ['00111111', '11000100', '00000000', '00000000', '00000000', '00000000', '00000000', '00000000']\n",
      "0.15625\n"
     ]
    }
   ],
   "source": [
    "print (base10(binario(0.15625)))\n",
    "print (base10(binario(0.15625,\"d\")))"
   ]
  },
  {
   "cell_type": "markdown",
   "metadata": {},
   "source": [
    "Se observa que la función 'base10' sirve para convertir binarios de 32 0 64 bits a reales perfectamente..."
   ]
  },
  {
   "cell_type": "markdown",
   "metadata": {},
   "source": [
    "Ejemplos probando comandos:"
   ]
  },
  {
   "cell_type": "code",
   "execution_count": 46,
   "metadata": {},
   "outputs": [
    {
     "data": {
      "text/plain": [
       "['hola', 'mundo', 'cruel']"
      ]
     },
     "execution_count": 46,
     "metadata": {},
     "output_type": "execute_result"
    }
   ],
   "source": [
    "\"hola mundo cruel\".split(\" \")"
   ]
  },
  {
   "cell_type": "code",
   "execution_count": 44,
   "metadata": {},
   "outputs": [
    {
     "data": {
      "text/plain": [
       "['hola', ' mundo ', 'cruel']"
      ]
     },
     "execution_count": 44,
     "metadata": {},
     "output_type": "execute_result"
    }
   ],
   "source": [
    "\"hola, mundo ,cruel\".split(\",\")"
   ]
  },
  {
   "cell_type": "code",
   "execution_count": 19,
   "metadata": {},
   "outputs": [
    {
     "data": {
      "text/plain": [
       "'1000011101'"
      ]
     },
     "execution_count": 19,
     "metadata": {},
     "output_type": "execute_result"
    }
   ],
   "source": [
    "bin(541).replace(\"0b\",\"\")"
   ]
  },
  {
   "cell_type": "code",
   "execution_count": 20,
   "metadata": {},
   "outputs": [
    {
     "data": {
      "text/plain": [
       "'-0b111'"
      ]
     },
     "execution_count": 20,
     "metadata": {},
     "output_type": "execute_result"
    }
   ],
   "source": [
    "bin(-7)"
   ]
  },
  {
   "cell_type": "code",
   "execution_count": 21,
   "metadata": {},
   "outputs": [
    {
     "data": {
      "text/plain": [
       "'hhhhhmundo'"
      ]
     },
     "execution_count": 21,
     "metadata": {},
     "output_type": "execute_result"
    }
   ],
   "source": [
    "\"mundo\".rjust(10,\"h\")"
   ]
  },
  {
   "cell_type": "code",
   "execution_count": 22,
   "metadata": {},
   "outputs": [
    {
     "data": {
      "text/plain": [
       "'Cruel::horrible::duque'"
      ]
     },
     "execution_count": 22,
     "metadata": {},
     "output_type": "execute_result"
    }
   ],
   "source": [
    "\"::\".join([\"Cruel\",\"horrible\",\"duque\"])"
   ]
  },
  {
   "cell_type": "code",
   "execution_count": 88,
   "metadata": {},
   "outputs": [
    {
     "data": {
      "text/plain": [
       "['h',\n",
       " 'o',\n",
       " 'l',\n",
       " 'a',\n",
       " ' ',\n",
       " 'm',\n",
       " 'u',\n",
       " 'n',\n",
       " 'd',\n",
       " 'o',\n",
       " ' ',\n",
       " 'c',\n",
       " 'r',\n",
       " 'u',\n",
       " 'e',\n",
       " 'l']"
      ]
     },
     "execution_count": 88,
     "metadata": {},
     "output_type": "execute_result"
    }
   ],
   "source": [
    "list(\"hola mundo cruel\")"
   ]
  }
 ],
 "metadata": {
  "kernelspec": {
   "display_name": "Python 3",
   "language": "python",
   "name": "python3"
  },
  "language_info": {
   "codemirror_mode": {
    "name": "ipython",
    "version": 3
   },
   "file_extension": ".py",
   "mimetype": "text/x-python",
   "name": "python",
   "nbconvert_exporter": "python",
   "pygments_lexer": "ipython3",
   "version": "3.4.2"
  }
 },
 "nbformat": 4,
 "nbformat_minor": 2
}
